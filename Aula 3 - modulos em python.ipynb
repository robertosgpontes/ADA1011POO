{
 "cells": [
  {
   "cell_type": "markdown",
   "metadata": {},
   "source": [
    "# Módulos em Python\n",
    "\n",
    "Na aula de hoje, vamos explorar os seguintes tópicos em Python:\n",
    "\n",
    "- 1) Bibliotecas\n",
    "- 2) Módulos, Pacotes, Bibliotecas (agora sim!)\n",
    "- 3) Criando a importando nossos próprios modulos/pacotes/bibliotecas\n",
    "\n",
    "_______\n"
   ]
  },
  {
   "cell_type": "markdown",
   "metadata": {},
   "source": [
    "____\n",
    "____\n",
    "____"
   ]
  },
  {
   "cell_type": "markdown",
   "metadata": {},
   "source": [
    "## 1) Bibliotecas\n",
    "\n",
    "Durante o curso, já tivemos contato com algumas **bibliotecas**, como a `datetime` e a `unicodedata`.\n",
    "\n",
    "Você provavelmente já deve ter ouvido os termos **pacotes** (packages) e **módulos** (modules), que são muitas vezes utilizados como sinônimos de **biblioteca**.\n",
    "\n",
    "No entanto, existe uma diferença entre estes termos, e hoje vamos entender qual é!\n",
    "\n",
    "Mas, por enquanto, podemos dizer que uma biblioteca nada mais é que **uma coleção de funcionalidades prontas**, ou seja, \"incrementos adicionais\" do python puro, que podem ser utilizadas pra fazer tarefas específicas. Como veremos, estas funcionalidades são expressas na forma de funções, classes, etc. \n",
    "\n",
    "Vamos ver alguns exemplos de **importação** de bibliotecas:"
   ]
  },
  {
   "cell_type": "code",
   "execution_count": 1,
   "metadata": {},
   "outputs": [],
   "source": [
    "import random"
   ]
  },
  {
   "cell_type": "code",
   "execution_count": 2,
   "metadata": {},
   "outputs": [
    {
     "data": {
      "text/plain": [
       "4"
      ]
     },
     "execution_count": 2,
     "metadata": {},
     "output_type": "execute_result"
    }
   ],
   "source": [
    "random.randint(0, 100)"
   ]
  },
  {
   "cell_type": "code",
   "execution_count": 25,
   "metadata": {},
   "outputs": [],
   "source": [
    "import random as rd"
   ]
  },
  {
   "cell_type": "code",
   "execution_count": 26,
   "metadata": {},
   "outputs": [
    {
     "data": {
      "text/plain": [
       "8"
      ]
     },
     "execution_count": 26,
     "metadata": {},
     "output_type": "execute_result"
    }
   ],
   "source": [
    "rd.randint(0, 30)"
   ]
  },
  {
   "cell_type": "code",
   "execution_count": 3,
   "metadata": {},
   "outputs": [
    {
     "ename": "ModuleNotFoundError",
     "evalue": "No module named 'seaborn'",
     "output_type": "error",
     "traceback": [
      "\u001b[1;31m---------------------------------------------------------------------------\u001b[0m",
      "\u001b[1;31mModuleNotFoundError\u001b[0m                       Traceback (most recent call last)",
      "Cell \u001b[1;32mIn[3], line 5\u001b[0m\n\u001b[0;32m      2\u001b[0m \u001b[39mimport\u001b[39;00m \u001b[39mpandas\u001b[39;00m \u001b[39mas\u001b[39;00m \u001b[39mpd\u001b[39;00m\n\u001b[0;32m      3\u001b[0m \u001b[39mimport\u001b[39;00m \u001b[39mnumpy\u001b[39;00m \u001b[39mas\u001b[39;00m \u001b[39mnp\u001b[39;00m\n\u001b[1;32m----> 5\u001b[0m \u001b[39mimport\u001b[39;00m \u001b[39mseaborn\u001b[39;00m \u001b[39mas\u001b[39;00m \u001b[39msns\u001b[39;00m\n",
      "\u001b[1;31mModuleNotFoundError\u001b[0m: No module named 'seaborn'"
     ]
    }
   ],
   "source": [
    "# importando a biblioteca com alias (apelido)\n",
    "import pandas as pd\n",
    "import numpy as np\n",
    "\n",
    "import seaborn as sns"
   ]
  },
  {
   "cell_type": "code",
   "execution_count": null,
   "metadata": {},
   "outputs": [],
   "source": []
  },
  {
   "cell_type": "code",
   "execution_count": 23,
   "metadata": {},
   "outputs": [],
   "source": [
    "from random import randint"
   ]
  },
  {
   "cell_type": "code",
   "execution_count": 24,
   "metadata": {},
   "outputs": [
    {
     "data": {
      "text/plain": [
       "5"
      ]
     },
     "execution_count": 24,
     "metadata": {},
     "output_type": "execute_result"
    }
   ],
   "source": [
    "randint(0, 10)"
   ]
  },
  {
   "cell_type": "markdown",
   "metadata": {},
   "source": [
    "Podemos dar um \"apelido\" para a biblioteca, que em python é chamado de \"alias\". \n",
    "\n",
    "Para isso, usamos a estrutura: \n",
    "\n",
    "```python\n",
    "import nome_da_biblioteca as apelido_da_biblioteca\n",
    "```\n",
    "Assim, quando formos nos referir à biblioteca para utilizar uma de suas funções, usamos o seu apelido, ao invés de seu nome completo\n",
    "\n",
    "Por exemplo, podemo simportar a biblioteca datetime com o apelido \"dt\""
   ]
  },
  {
   "cell_type": "code",
   "execution_count": 34,
   "metadata": {},
   "outputs": [],
   "source": [
    "import datetime as dt"
   ]
  },
  {
   "cell_type": "code",
   "execution_count": 4,
   "metadata": {},
   "outputs": [],
   "source": [
    "import tensorflow"
   ]
  },
  {
   "cell_type": "markdown",
   "metadata": {},
   "source": [
    "Para instalarmos uma biblioteca nova, abrimos o **terminal**, e usamos:\n",
    "\n",
    "```pip install nome_da_biblioteca```\n",
    "\n",
    "ou\n",
    "\n",
    "```conda install nome_da_biblioteca```\n",
    "\n",
    "\n",
    "Se quisermos uma versão específica,\n",
    "\n",
    "```pip install nume_da_biblioteca==numero_da_versao```\n",
    "\n",
    "Outra forma de instalar bibliotecas diretamente no Jupyter, é digitar em alguma célula de código exatamente os códigos acima, mas com um \"!\" no início. Por exemplo,\n",
    "\n",
    "```!pip install nome_da_biblioteca```"
   ]
  },
  {
   "cell_type": "markdown",
   "metadata": {},
   "source": [
    "Um ótimo site para referência de bibliotecas em Python: https://pypi.org/"
   ]
  },
  {
   "cell_type": "markdown",
   "metadata": {},
   "source": [
    "_____\n",
    "\n",
    "### Além do Jupyter\n",
    "\n",
    "E se eu quiser executar meu código fora do jupyter?\n",
    "\n",
    "Para isso, salvamos o arquivo como a extensão \".py\"\n",
    "\n",
    "E então executamos o arquivo no terminal, utilizando\n",
    "\n",
    "`python nome_do_programa.py` "
   ]
  },
  {
   "cell_type": "markdown",
   "metadata": {},
   "source": [
    "______\n",
    "________\n",
    "______"
   ]
  },
  {
   "cell_type": "markdown",
   "metadata": {},
   "source": [
    "## 2) Módulos, Pacotes, Bibliotecas (agora sim!)"
   ]
  },
  {
   "cell_type": "markdown",
   "metadata": {},
   "source": [
    "Muitas vezes, usamos os termos \"biblioteca\", \"pacote\" e \"módulo\" como sinônimos. Mas, na verdade, existe uma distinção importante entre estes termos. Vamos entender agora um pouco melhor!"
   ]
  },
  {
   "cell_type": "markdown",
   "metadata": {},
   "source": [
    "### Módulos\n",
    "\n",
    "Qualquer script Python (arquivo com extensão .py) pode ser considerado um módulo.\n",
    "\n",
    "E o motivo da existência de módulos é muito simples: modularização e organização.\n",
    "\n",
    "Em um módulo, podemos adicionar **funções**, **classes**, e qualquer funcionalidade que queiramos organizar em um arquivo, para que estas funcionalidades sejam **importadas** para qualquer projeto que desejemos!\n",
    "\n",
    "Abaixo, faremos um exemplo, e construiremos nosso próprio módulo! :)"
   ]
  },
  {
   "cell_type": "markdown",
   "metadata": {},
   "source": [
    "###  Pacotes\n",
    "\n",
    "É comum que tenhamos vários módulos, cada um com seu conjunto de funcionalidades específicas. Se quisermos estruturar este conjunto de módulos em uma única estrutura, temos um **pacote**, que é exatamente isso: um diretório (pasta) onde colocamos diversos módulos!\n",
    "\n",
    "Um ponto importante é que para que o Python entenda que uma pasta (diretório) é importante que nós adicionemos à pasta um arquivo vazio com o nome \\_\\_init\\_\\_.py. (E, não por acaso, esse arquivo é chamado de **construtor** de um pacote!)\n",
    "\n",
    "<img src=https://files.realpython.com/media/pkg2.dab97c2f9c58.png width=200>\n",
    "\n",
    "Na prática, ele serve apenas como um indicatio, para o Python saber que os arquivos .py (módulos) naquela pasta fazem parte de um pacote, e que podem ser importados, etc.\n",
    "\n",
    "Abaixo, faremos um exemplo, e construiremos nosso próprio pacote! :)"
   ]
  },
  {
   "cell_type": "markdown",
   "metadata": {},
   "source": [
    "###  Bibliotecas\n",
    "\n",
    "No uso coloquial, muitas vezes chamamos módulos e pacotes de \"bibliotecas\". E, coloquialmente, este uso é bem aceitável.\n",
    "\n",
    "Mas, formalmente falando, usamos o termo **biblioteca** para nos referir a pacotes (ou até mesmo módulos individuais) que são publicados, como parte de um projeto particular, ou para determinado uso.\n",
    "\n",
    "De forma macro, quase toda biblioteca é um conjunto de pacotes. Mas, como dissemos, há uma certa liberdade no uso deste termo.\n",
    "\n",
    "O importanque é que agora você entende bem o que de fato é uma biblioteca em Python, bem como o que é um módulo e um pacote. Tendo isso em mente, podemos utilizar os termos de maneira mais corriqueira e coloquial, de acordo com a situação :)"
   ]
  },
  {
   "cell_type": "markdown",
   "metadata": {},
   "source": [
    "Em resumo,\n",
    "\n",
    "- Um **módulo** é um arquivo de extensão .py com código em Python nele (comumente definição de funções, classes, etc.);\n",
    "\n",
    "- Um **pacote** é uma coleção de módulos. Costuma ser uma pasta com os módulos e o arquivo especial \\_\\_init\\_\\_.py vazio;\n",
    "\n",
    "- Uma **biblioteca** é uma coleção de pacotes ou módulos.\n",
    "\n",
    "<img src=https://cdn.programiz.com/sites/tutorial2program/files/PackageModuleStructure.jpg width=500>"
   ]
  },
  {
   "cell_type": "markdown",
   "metadata": {},
   "source": [
    "Agora que já entendemos o conceitual, vamos criar nossos próprios módulos/pacotes/bibliotecas!"
   ]
  },
  {
   "cell_type": "markdown",
   "metadata": {},
   "source": [
    "______\n",
    "________\n",
    "______"
   ]
  },
  {
   "cell_type": "markdown",
   "metadata": {},
   "source": [
    "## 3) Criando a importando nossos próprios modulos/pacotes/bibliotecas\n",
    "\n",
    "Como vimos acima, podemos fazer um programa no Jupyter Notebook, e exportá-lo com a extensão \".py\", para, por exemplo, executá-lo no terminal, ou em alguma outra plataforma.\n",
    "\n",
    "Com isso, podemos criar **nossos próprios módulos**, ou, se quisermos, **pacotes e bibliotecas!**"
   ]
  },
  {
   "cell_type": "markdown",
   "metadata": {},
   "source": [
    "Para isso, basta criarmos arquivos \".py\", e o resto da infraestrutura necessária, conforme vimos acima. Vamos fazer isso!"
   ]
  },
  {
   "cell_type": "markdown",
   "metadata": {},
   "source": [
    "Após criar o módulo/pacote/biblioteca, podemos importo-la como fazemos com qualquer outra bilioteca"
   ]
  },
  {
   "cell_type": "code",
   "execution_count": 30,
   "metadata": {},
   "outputs": [],
   "source": [
    "import minha_lib"
   ]
  },
  {
   "cell_type": "code",
   "execution_count": 31,
   "metadata": {},
   "outputs": [
    {
     "data": {
      "text/plain": [
       "24"
      ]
     },
     "execution_count": 31,
     "metadata": {},
     "output_type": "execute_result"
    }
   ],
   "source": [
    "minha_lib.fatorial(4)"
   ]
  },
  {
   "cell_type": "code",
   "execution_count": 32,
   "metadata": {},
   "outputs": [
    {
     "data": {
      "text/plain": [
       "6.0"
      ]
     },
     "execution_count": 32,
     "metadata": {},
     "output_type": "execute_result"
    }
   ],
   "source": [
    "minha_lib.media(5, 7)"
   ]
  },
  {
   "cell_type": "markdown",
   "metadata": {},
   "source": [
    "E aí, podemos utilizar suas funções em diferentes programas!"
   ]
  },
  {
   "cell_type": "code",
   "execution_count": 1,
   "metadata": {
    "ExecuteTime": {
     "end_time": "2021-11-25T21:47:12.819583Z",
     "start_time": "2021-11-25T21:47:12.785585Z"
    }
   },
   "outputs": [],
   "source": [
    "import my_package.fibo"
   ]
  },
  {
   "cell_type": "code",
   "execution_count": 2,
   "metadata": {
    "ExecuteTime": {
     "end_time": "2021-11-25T21:47:29.910838Z",
     "start_time": "2021-11-25T21:47:29.901841Z"
    }
   },
   "outputs": [
    {
     "name": "stdout",
     "output_type": "stream",
     "text": [
      "0 1 1 2 3 \n"
     ]
    }
   ],
   "source": [
    "my_package.fibo.fib(4)"
   ]
  },
  {
   "cell_type": "code",
   "execution_count": 3,
   "metadata": {
    "ExecuteTime": {
     "end_time": "2021-11-25T21:47:38.238630Z",
     "start_time": "2021-11-25T21:47:38.221641Z"
    }
   },
   "outputs": [],
   "source": [
    "import my_package"
   ]
  },
  {
   "cell_type": "code",
   "execution_count": 5,
   "metadata": {
    "ExecuteTime": {
     "end_time": "2021-11-25T21:47:58.577722Z",
     "start_time": "2021-11-25T21:47:58.558734Z"
    }
   },
   "outputs": [
    {
     "name": "stdout",
     "output_type": "stream",
     "text": [
      "0 1 1 2 3 5 8 \n"
     ]
    }
   ],
   "source": [
    "my_package.fibo.fib(10)"
   ]
  },
  {
   "cell_type": "markdown",
   "metadata": {},
   "source": [
    "____\n",
    "____\n",
    "____"
   ]
  },
  {
   "cell_type": "code",
   "execution_count": null,
   "metadata": {},
   "outputs": [],
   "source": [
    "import sys\n",
    "sys.path.append(r\"C:\\path\\to\\dir\")"
   ]
  },
  {
   "cell_type": "code",
   "execution_count": 3,
   "metadata": {},
   "outputs": [],
   "source": [
    "import my_package.Fibo as fb"
   ]
  },
  {
   "cell_type": "code",
   "execution_count": 4,
   "metadata": {},
   "outputs": [
    {
     "data": {
      "text/plain": [
       "55"
      ]
     },
     "execution_count": 4,
     "metadata": {},
     "output_type": "execute_result"
    }
   ],
   "source": [
    "fb.recur_fibo(10)"
   ]
  }
 ],
 "metadata": {
  "kernelspec": {
   "display_name": "Python 3",
   "language": "python",
   "name": "python3"
  },
  "language_info": {
   "codemirror_mode": {
    "name": "ipython",
    "version": 3
   },
   "file_extension": ".py",
   "mimetype": "text/x-python",
   "name": "python",
   "nbconvert_exporter": "python",
   "pygments_lexer": "ipython3",
   "version": "3.11.4"
  }
 },
 "nbformat": 4,
 "nbformat_minor": 4
}
