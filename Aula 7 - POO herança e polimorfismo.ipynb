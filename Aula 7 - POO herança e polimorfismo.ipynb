{
 "cells": [
  {
   "cell_type": "markdown",
   "metadata": {},
   "source": [
    "# Programação Orientada a Objetos\n",
    "\n",
    "## Herança e Polimorfismo\n",
    "__________\n",
    "\n",
    "Na aula de hoje, vamos explorar os seguintes tópicos em Python:\n",
    "\n",
    "- 1) Herança e Polimorfismo.\n",
    "\n",
    "__________"
   ]
  },
  {
   "cell_type": "markdown",
   "metadata": {},
   "source": [
    "___\n",
    "___\n",
    "___"
   ]
  },
  {
   "cell_type": "markdown",
   "metadata": {},
   "source": [
    "## 1) Herança e Polimorfismo"
   ]
  },
  {
   "cell_type": "markdown",
   "metadata": {},
   "source": [
    "Imagine que você tenha várias classes com os mesmos atributos, os mesmos métodos e mesmos parâmetros. \n",
    "\n",
    "Reescrevê-los várias vezes é um desperdício de tempo! Além disso, se pecisarmos atualizar um método, precisaremos fazer a modificação múltiplas vezes. \n",
    "\n",
    "Para solucionar esta questão, trateremos dos conceitos de **herança** e **polimorfismo**.\n"
   ]
  },
  {
   "cell_type": "markdown",
   "metadata": {},
   "source": [
    "### Herança\n",
    "\n",
    "É possível criar **classes filhas** que herdem atributos e métodos de uma **classe mãe** através de **herança**.\n",
    "\n",
    "Para herdar, colocamos o **nome da classe mãe entre parênteses** na frente do nome da classe filha em sua definição.\n",
    "\n",
    "Se necessário, podemos redefinir um método na classe filha."
   ]
  },
  {
   "cell_type": "markdown",
   "metadata": {},
   "source": [
    "Pessoa\n",
    "+ Nome\n",
    "+ Endereço\n",
    "+ Telefone"
   ]
  },
  {
   "cell_type": "code",
   "execution_count": 96,
   "metadata": {},
   "outputs": [],
   "source": [
    "class Pessoa:\n",
    "    def __init__(self, nome: str, endereco: str, telefone: str):\n",
    "        self.__nome = nome\n",
    "        self.__endereco = endereco\n",
    "        self.__telefone = telefone\n",
    "\n",
    "    @property\n",
    "    def nome(self):\n",
    "        return self.__nome\n",
    "    \n",
    "    @nome.setter\n",
    "    def nome(self, novo_nome):\n",
    "        self.__nome = novo_nome\n",
    "\n",
    "    @property\n",
    "    def endereco(self):\n",
    "        return self.__endereco\n",
    "    \n",
    "    @endereco.setter\n",
    "    def endereco(self, novo_endereco):\n",
    "        self.__endereco = novo_endereco\n",
    "\n",
    "    @property\n",
    "    def telefone(self):\n",
    "        return self.__telefone\n",
    "    \n",
    "    @telefone.setter\n",
    "    def telefone(self, novo_telefone):\n",
    "        self.__telefone = novo_telefone\n",
    "\n",
    "    def apresenta_nome(self):\n",
    "        return self.__nome\n",
    "    \n",
    "class PessoaFisica(Pessoa):\n",
    "    def __init__(self, nome: str, endereco: str, telefone: str, cpf:int):\n",
    "        self.__cpf = cpf\n",
    "        super().__init__(nome, endereco, telefone)\n",
    "        \n",
    "class PessoaJuridica(Pessoa):\n",
    "    def __init__(self, nome: str, endereco: str, telefone: str, cnpj:int):\n",
    "        self.__cnpj = cnpj\n",
    "        super().__init__(nome, endereco, telefone)\n",
    "        \n",
    "    def apresenta_nome(self):\n",
    "        return f'{self.__cnpj} - {super().apresenta_nome()}'\n",
    "    \n",
    "class Ab:\n",
    "    def __init__(self):\n",
    "        self.__a = 0\n",
    "        \n",
    "    @property\n",
    "    def a(self):\n",
    "        self.__a\n",
    "    \n",
    "class MEI(Pessoa, Ab):\n",
    "    def __init__(self, nome: str, endereco: str, telefone: str, cnpj:int):\n",
    "        self.__cnpj = cnpj\n",
    "        Pessoa.__init__(self, nome, endereco, telefone)\n",
    "        Ab.__init__(self)\n",
    "        \n",
    "    def apresenta_nome(self):\n",
    "        return f'{self.__cnpj} - {super().apresenta_nome()} - {super().a}'"
   ]
  },
  {
   "cell_type": "code",
   "execution_count": 97,
   "metadata": {},
   "outputs": [],
   "source": [
    "pfs = []"
   ]
  },
  {
   "cell_type": "code",
   "execution_count": 62,
   "metadata": {},
   "outputs": [],
   "source": [
    "pfs.append(PessoaFisica(\"Roberto\", \"Rua Sem Nome\", \"0000-0000\", 00000000000))"
   ]
  },
  {
   "cell_type": "code",
   "execution_count": 63,
   "metadata": {},
   "outputs": [],
   "source": [
    "pfs.append(PessoaJuridica(\"ADA\", \"Av. Brigadeiro....\", \"0000-0000\", 11111111111111))"
   ]
  },
  {
   "cell_type": "code",
   "execution_count": 98,
   "metadata": {},
   "outputs": [],
   "source": [
    "pfs.append(MEI(\"ADA2\", \"Av. Brigadeiro....\", \"0000-0000\", 11111111111111))"
   ]
  },
  {
   "cell_type": "code",
   "execution_count": 99,
   "metadata": {},
   "outputs": [
    {
     "name": "stdout",
     "output_type": "stream",
     "text": [
      "11111111111111 - ADA2 - None <class '__main__.MEI'>\n"
     ]
    }
   ],
   "source": [
    "for pf in pfs:\n",
    "    print(pf.apresenta_nome(), type(pf))"
   ]
  },
  {
   "cell_type": "code",
   "execution_count": 41,
   "metadata": {},
   "outputs": [],
   "source": [
    "for pf in pfs:\n",
    "    pf.endereco = pf.endereco + ' Modificado'"
   ]
  },
  {
   "cell_type": "code",
   "execution_count": 68,
   "metadata": {},
   "outputs": [
    {
     "name": "stdout",
     "output_type": "stream",
     "text": [
      "Av. Brigadeiro.... <class '__main__.MEI'>\n"
     ]
    }
   ],
   "source": [
    "for pf in pfs:\n",
    "    print(pf.endereco, type(pf))"
   ]
  },
  {
   "cell_type": "markdown",
   "metadata": {},
   "source": [
    "Imagine agora que queremos herdar um método **parcialmente**, com a possibilidade de alterá-lo.\n",
    "\n",
    "(Isso é importante, pois se apenas copiássemos o método original, qualquer alteração nele teria de ser feita em todos os locais onde ele é copiado...)\n",
    "\n",
    "Para isso, usamos o método `super()`"
   ]
  },
  {
   "cell_type": "code",
   "execution_count": null,
   "metadata": {},
   "outputs": [],
   "source": []
  },
  {
   "cell_type": "markdown",
   "metadata": {},
   "source": [
    "### Polimorfismo\n",
    "\n",
    "Do grego, **\"várias formas\"**. A ideia é que um objeto de uma certa classe pode se comportar como objeto de outras classes. \n",
    "\n",
    "Mais especificamente, **objetos de uma classe filha podem também ser tratados como se pertencessem à classe mãe**.\n",
    "\n",
    "O método `isinstance` recebe 2 parâmetros: um objeto e uma classe. \n",
    "\n",
    "Ele retorna True caso o objeto pertenca à classe, e False caso não pertença."
   ]
  },
  {
   "cell_type": "code",
   "execution_count": 69,
   "metadata": {},
   "outputs": [
    {
     "name": "stdout",
     "output_type": "stream",
     "text": [
      "11111111111111 - ADA2 True False False\n"
     ]
    }
   ],
   "source": [
    "for pf in pfs:\n",
    "    print(pf.apresenta_nome(),\n",
    "          isinstance(pf, Pessoa), \n",
    "          isinstance(pf, PessoaFisica), \n",
    "          isinstance(pf, PessoaJuridica) )"
   ]
  },
  {
   "cell_type": "markdown",
   "metadata": {},
   "source": [
    "Isso é útil porque uma função que seja feita para lidar com Animal será capaz de lidar com qualquer classe herdeira de Animal com a mesma facilidade."
   ]
  },
  {
   "cell_type": "markdown",
   "metadata": {},
   "source": [
    "___\n",
    "___\n",
    "___"
   ]
  }
 ],
 "metadata": {
  "kernelspec": {
   "display_name": "Python 3",
   "language": "python",
   "name": "python3"
  },
  "language_info": {
   "codemirror_mode": {
    "name": "ipython",
    "version": 3
   },
   "file_extension": ".py",
   "mimetype": "text/x-python",
   "name": "python",
   "nbconvert_exporter": "python",
   "pygments_lexer": "ipython3",
   "version": "3.11.4"
  }
 },
 "nbformat": 4,
 "nbformat_minor": 4
}
