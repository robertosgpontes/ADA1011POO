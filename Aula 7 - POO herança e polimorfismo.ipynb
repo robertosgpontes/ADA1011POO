{
 "cells": [
  {
   "cell_type": "markdown",
   "metadata": {},
   "source": [
    "# Programação Orientada a Objetos\n",
    "\n",
    "## Herança e Polimorfismo\n",
    "__________\n",
    "\n",
    "Na aula de hoje, vamos explorar os seguintes tópicos em Python:\n",
    "\n",
    "- 1) Herança e Polimorfismo.\n",
    "\n",
    "__________"
   ]
  },
  {
   "cell_type": "markdown",
   "metadata": {},
   "source": [
    "___\n",
    "___\n",
    "___"
   ]
  },
  {
   "cell_type": "markdown",
   "metadata": {},
   "source": [
    "## 1) Herança e Polimorfismo"
   ]
  },
  {
   "cell_type": "markdown",
   "metadata": {},
   "source": [
    "Imagine que você tenha várias classes com os mesmos atributos, os mesmos métodos e mesmos parâmetros. \n",
    "\n",
    "Reescrevê-los várias vezes é um desperdício de tempo! Além disso, se pecisarmos atualizar um método, precisaremos fazer a modificação múltiplas vezes. \n",
    "\n",
    "Para solucionar esta questão, trateremos dos conceitos de **herança** e **polimorfismo**.\n"
   ]
  },
  {
   "cell_type": "markdown",
   "metadata": {},
   "source": [
    "### Herança\n",
    "\n",
    "É possível criar **classes filhas** que herdem atributos e métodos de uma **classe mãe** através de **herança**.\n",
    "\n",
    "Para herdar, colocamos o **nome da classe mãe entre parênteses** na frente do nome da classe filha em sua definição.\n",
    "\n",
    "Se necessário, podemos redefinir um método na classe filha."
   ]
  },
  {
   "cell_type": "code",
   "execution_count": null,
   "metadata": {},
   "outputs": [],
   "source": []
  },
  {
   "cell_type": "markdown",
   "metadata": {},
   "source": [
    "Imagine agora que queremos herdar um método **parcialmente**, com a possibilidade de alterá-lo.\n",
    "\n",
    "(Isso é importante, pois se apenas copiássemos o método original, qualquer alteração nele teria de ser feita em todos os locais onde ele é copiado...)\n",
    "\n",
    "Para isso, usamos o método `super()`"
   ]
  },
  {
   "cell_type": "code",
   "execution_count": null,
   "metadata": {},
   "outputs": [],
   "source": []
  },
  {
   "cell_type": "markdown",
   "metadata": {},
   "source": [
    "### Polimorfismo\n",
    "\n",
    "Do grego, **\"várias formas\"**. A ideia é que um objeto de uma certa classe pode se comportar como objeto de outras classes. \n",
    "\n",
    "Mais especificamente, **objetos de uma classe filha podem também ser tratados como se pertencessem à classe mãe**.\n",
    "\n",
    "O método `isinstance` recebe 2 parâmetros: um objeto e uma classe. \n",
    "\n",
    "Ele retorna True caso o objeto pertenca à classe, e False caso não pertença."
   ]
  },
  {
   "cell_type": "code",
   "execution_count": null,
   "metadata": {},
   "outputs": [],
   "source": []
  },
  {
   "cell_type": "markdown",
   "metadata": {},
   "source": [
    "Isso é útil porque uma função que seja feita para lidar com Animal será capaz de lidar com qualquer classe herdeira de Animal com a mesma facilidade."
   ]
  },
  {
   "cell_type": "markdown",
   "metadata": {},
   "source": [
    "___\n",
    "___\n",
    "___"
   ]
  }
 ],
 "metadata": {
  "kernelspec": {
   "display_name": "Python 3",
   "language": "python",
   "name": "python3"
  },
  "language_info": {
   "codemirror_mode": {
    "name": "ipython",
    "version": 3
   },
   "file_extension": ".py",
   "mimetype": "text/x-python",
   "name": "python",
   "nbconvert_exporter": "python",
   "pygments_lexer": "ipython3",
   "version": "3.8.3"
  }
 },
 "nbformat": 4,
 "nbformat_minor": 4
}
