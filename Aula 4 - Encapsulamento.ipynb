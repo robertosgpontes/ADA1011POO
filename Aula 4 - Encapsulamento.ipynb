{
 "cells": [
  {
   "cell_type": "code",
   "execution_count": 1,
   "metadata": {},
   "outputs": [],
   "source": [
    "class Fracao:\n",
    "    \n",
    "    def __init__(self, numerador:int, denominador:int) -> None:\n",
    "        \"\"\"_summary_\n",
    "\n",
    "        Args:\n",
    "            numerador (int): _description_\n",
    "            denominador (int): _description_\n",
    "        \"\"\"\n",
    "        self.numerador = numerador\n",
    "        self.denominador = denominador\n",
    "        if denominador == 0:\n",
    "            self.denominador = 1\n",
    "        \n",
    "    def soma(self, fracao):\n",
    "        \"\"\"_summary_\n",
    "\n",
    "        Args:\n",
    "            fracao (Fracao): _description_\n",
    "\n",
    "        Returns:\n",
    "            Fracao: _description_\n",
    "        \"\"\"\n",
    "        numerador =  fracao.denominador*self.numerador + fracao.numerador*self.denominador\n",
    "        denominador = fracao.denominador*self.denominador\n",
    "        \n",
    "        return Fracao(numerador, denominador)\n",
    "    \n",
    "    def subtracao(self, fracao):\n",
    "        \n",
    "        numerador =  fracao.denominador*self.numerador - fracao.numerador*self.denominador\n",
    "        denominador = fracao.denominador*self.denominador\n",
    "        \n",
    "        return Fracao(numerador, denominador)\n",
    "    \n",
    "    def multiplicacao(self, fracao):\n",
    "        \n",
    "        numerador =  self.numerador * fracao.numerador\n",
    "        denominador = fracao.denominador * self.denominador\n",
    "        \n",
    "        return Fracao(numerador, denominador)\n",
    "    \n",
    "    def divisao(self, fracao):\n",
    "        \n",
    "        numerador =  self.numerador * fracao.denominador\n",
    "        denominador = fracao.numerador * self.denominador\n",
    "        \n",
    "        return Fracao(numerador, denominador)\n",
    "    \n",
    "    def apresenta(self):\n",
    "        return f\"{self.numerador}/{self.denominador}\"   "
   ]
  },
  {
   "cell_type": "code",
   "execution_count": 2,
   "metadata": {},
   "outputs": [],
   "source": [
    "f1 = Fracao(12, 0)"
   ]
  },
  {
   "cell_type": "code",
   "execution_count": 4,
   "metadata": {},
   "outputs": [
    {
     "data": {
      "text/plain": [
       "'12/1'"
      ]
     },
     "execution_count": 4,
     "metadata": {},
     "output_type": "execute_result"
    }
   ],
   "source": [
    "f1.apresenta()"
   ]
  },
  {
   "cell_type": "code",
   "execution_count": 5,
   "metadata": {},
   "outputs": [],
   "source": [
    "f1.denominador = 0"
   ]
  },
  {
   "cell_type": "code",
   "execution_count": 6,
   "metadata": {},
   "outputs": [
    {
     "data": {
      "text/plain": [
       "'12/0'"
      ]
     },
     "execution_count": 6,
     "metadata": {},
     "output_type": "execute_result"
    }
   ],
   "source": [
    "f1.apresenta()"
   ]
  },
  {
   "cell_type": "markdown",
   "metadata": {},
   "source": [
    "# Overview \n",
    "\n",
    "Modificadores de acesso (public, private e protected) \n",
    "\n",
    "Métodos get e set\n",
    "\n",
    "Criação de getters e setters através de decorators\n",
    "\n",
    "Criação de getters e setters através da função property\n",
    "\n",
    "\n",
    "https://acervolima.com/modificadores-de-acesso-em-python-publico-privado-e-protegido/\n"
   ]
  },
  {
   "cell_type": "markdown",
   "metadata": {},
   "source": [
    "# MODIFICADORES DE ACESSO EM PYTHON\n",
    "\n",
    "\n",
    "## Modificador de acesso público:\n",
    "Os membros de uma classe que são declarados públicos são facilmente acessíveis de qualquer parte do programa. Todos os membros de dados e funções de membro de uma classe são públicos por padrão."
   ]
  },
  {
   "cell_type": "code",
   "execution_count": 7,
   "metadata": {},
   "outputs": [
    {
     "name": "stdout",
     "output_type": "stream",
     "text": [
      "Name:  R2J\n",
      "Age:  20\n"
     ]
    }
   ],
   "source": [
    "class Geek: \n",
    "     def __init__(self, name, age): \n",
    "        self.geekName = name \n",
    "        self.geekAge = age \n",
    "  \n",
    "     \n",
    "     def displayAge(self): \n",
    "        print(\"Age: \", self.geekAge) \n",
    "              \n",
    "obj = Geek(\"R2J\", 20) \n",
    "print(\"Name: \", obj.geekName) \n",
    "obj.displayAge() "
   ]
  },
  {
   "cell_type": "markdown",
   "metadata": {},
   "source": [
    "## Modificador de acesso protegido:\n",
    "\n",
    "Os membros de uma classe que são declarados protegidos só podem ser acessados ​​por uma classe derivada dela. Os membros de dados de uma classe são declarados protegidos pela adição de um único símbolo de sublinhado '_' antes do membro de dados dessa classe."
   ]
  },
  {
   "cell_type": "markdown",
   "metadata": {},
   "source": [
    "## Modificador de acesso privado:\n",
    "Os membros de uma classe que são declarados privados são acessíveis apenas dentro da classe, o modificador de acesso privado é o modificador de acesso mais seguro. Os membros de dados de uma classe são declarados privados ao adicionar um símbolo de sublinhado duplo '__' antes do membro de dados dessa classe."
   ]
  },
  {
   "cell_type": "code",
   "execution_count": 8,
   "metadata": {},
   "outputs": [
    {
     "name": "stdout",
     "output_type": "stream",
     "text": [
      "Name:  R2J\n",
      "Roll:  1706256\n",
      "Branch:  Information Technology\n"
     ]
    }
   ],
   "source": [
    "class Geek: \n",
    "    \n",
    "    __name = None\n",
    "    __roll = None\n",
    "    __branch = None\n",
    "  \n",
    "     \n",
    "    def __init__(self, name, roll, branch):   \n",
    "        self.__name = name \n",
    "        self.__roll = roll \n",
    "        self.__branch = branch \n",
    "  \n",
    "     \n",
    "    def __displayDetails(self): \n",
    "        print(\"Name: \", self.__name) \n",
    "        print(\"Roll: \", self.__roll) \n",
    "        print(\"Branch: \", self.__branch) \n",
    "     \n",
    "     \n",
    "    def accessPrivateFunction(self):  \n",
    "        self.__displayDetails() \n",
    "          \n",
    "obj = Geek(\"R2J\", 1706256, \"Information Technology\") \n",
    "obj.accessPrivateFunction() "
   ]
  },
  {
   "cell_type": "code",
   "execution_count": 9,
   "metadata": {},
   "outputs": [
    {
     "ename": "AttributeError",
     "evalue": "'Geek' object has no attribute '__name'",
     "output_type": "error",
     "traceback": [
      "\u001b[1;31m---------------------------------------------------------------------------\u001b[0m",
      "\u001b[1;31mAttributeError\u001b[0m                            Traceback (most recent call last)",
      "Cell \u001b[1;32mIn[9], line 1\u001b[0m\n\u001b[1;32m----> 1\u001b[0m obj\u001b[39m.\u001b[39;49m__name\n",
      "\u001b[1;31mAttributeError\u001b[0m: 'Geek' object has no attribute '__name'"
     ]
    }
   ],
   "source": [
    "obj.__name"
   ]
  },
  {
   "cell_type": "code",
   "execution_count": 10,
   "metadata": {},
   "outputs": [
    {
     "ename": "AttributeError",
     "evalue": "'Geek' object has no attribute 'name'",
     "output_type": "error",
     "traceback": [
      "\u001b[1;31m---------------------------------------------------------------------------\u001b[0m",
      "\u001b[1;31mAttributeError\u001b[0m                            Traceback (most recent call last)",
      "Cell \u001b[1;32mIn[10], line 1\u001b[0m\n\u001b[1;32m----> 1\u001b[0m obj\u001b[39m.\u001b[39;49mname\n",
      "\u001b[1;31mAttributeError\u001b[0m: 'Geek' object has no attribute 'name'"
     ]
    }
   ],
   "source": [
    "obj.name"
   ]
  },
  {
   "cell_type": "code",
   "execution_count": 11,
   "metadata": {},
   "outputs": [
    {
     "ename": "AttributeError",
     "evalue": "'Geek' object has no attribute '_name'",
     "output_type": "error",
     "traceback": [
      "\u001b[1;31m---------------------------------------------------------------------------\u001b[0m",
      "\u001b[1;31mAttributeError\u001b[0m                            Traceback (most recent call last)",
      "Cell \u001b[1;32mIn[11], line 1\u001b[0m\n\u001b[1;32m----> 1\u001b[0m obj\u001b[39m.\u001b[39;49m_name\n",
      "\u001b[1;31mAttributeError\u001b[0m: 'Geek' object has no attribute '_name'"
     ]
    }
   ],
   "source": [
    "obj._name"
   ]
  },
  {
   "cell_type": "markdown",
   "metadata": {},
   "source": [
    "# Métodos get e set\n"
   ]
  },
  {
   "cell_type": "code",
   "execution_count": 12,
   "metadata": {},
   "outputs": [
    {
     "name": "stdout",
     "output_type": "stream",
     "text": [
      "21\n"
     ]
    }
   ],
   "source": [
    "class Geek:\n",
    "    def __init__(self, age = 0):\n",
    "         self.__age = age\n",
    "      \n",
    "    # getter method\n",
    "    def get_age(self):\n",
    "        return self.__age\n",
    "      \n",
    "    # setter method\n",
    "    def set_age(self, x):\n",
    "        self.__age = x\n",
    "  \n",
    "raj = Geek()\n",
    "  \n",
    "# setting the age using setter\n",
    "raj.set_age(21)\n",
    "  \n",
    "# retrieving age using getter\n",
    "print(raj.get_age())\n"
   ]
  },
  {
   "cell_type": "code",
   "execution_count": 13,
   "metadata": {},
   "outputs": [
    {
     "ename": "AttributeError",
     "evalue": "'Geek' object has no attribute '__age'",
     "output_type": "error",
     "traceback": [
      "\u001b[1;31m---------------------------------------------------------------------------\u001b[0m",
      "\u001b[1;31mAttributeError\u001b[0m                            Traceback (most recent call last)",
      "Cell \u001b[1;32mIn[13], line 1\u001b[0m\n\u001b[1;32m----> 1\u001b[0m \u001b[39mprint\u001b[39m(raj\u001b[39m.\u001b[39;49m__age)\n",
      "\u001b[1;31mAttributeError\u001b[0m: 'Geek' object has no attribute '__age'"
     ]
    }
   ],
   "source": [
    "print(raj.__age)"
   ]
  },
  {
   "cell_type": "code",
   "execution_count": 34,
   "metadata": {},
   "outputs": [],
   "source": [
    "#TODO: Reimplementar métodos\n",
    "\n",
    "class Fracao:\n",
    "    \n",
    "    __numerador = None\n",
    "    __denominador = None\n",
    "    \n",
    "    def __init__(self, numerador:int, denominador:int) -> None:\n",
    "        \"\"\"_summary_\n",
    "\n",
    "        Args:\n",
    "            numerador (int): _description_\n",
    "            denominador (int): _description_\n",
    "        \"\"\"\n",
    "        self.set_numerador(numerador)\n",
    "        self.set_denominador(denominador)\n",
    "        \n",
    "    def get_denominador(self):\n",
    "        return self.__denominador\n",
    "    \n",
    "    def set_denominador(self, denominador):\n",
    "        if denominador == 0:\n",
    "            raise ValueError('Erro! Denominador não pode ser zero.')\n",
    "        \n",
    "        self.__denominador = denominador\n",
    "        \n",
    "    \n",
    "    def get_numerador(self):\n",
    "        return self.__numerador\n",
    "    \n",
    "    def set_numerador(self, numerador):\n",
    "        self.__numerador = numerador\n",
    "        \n",
    "\n",
    "        \n",
    "    def soma(self, fracao):\n",
    "        \"\"\"_summary_\n",
    "\n",
    "        Args:\n",
    "            fracao (Fracao): _description_\n",
    "\n",
    "        Returns:\n",
    "            Fracao: _description_\n",
    "        \"\"\"\n",
    "        numerador =  fracao.get_denominador() * self.get_numerador() + fracao.get_numerador() * self.get_denominador()\n",
    "        denominador = fracao.get_denominador() * self.get_denominador()\n",
    "        \n",
    "        return Fracao(numerador, denominador)\n",
    "    \n",
    "    def subtracao(self, fracao):\n",
    "        \n",
    "        numerador =  fracao.get_denominador() * self.get_numerador() - fracao.get_numerador() * self.get_denominador()\n",
    "        denominador = fracao.get_denominador() * self.get_denominador()\n",
    "        \n",
    "        return Fracao(numerador, denominador)\n",
    "    \n",
    "    def multiplicacao(self, fracao):\n",
    "        \n",
    "        numerador =  self.get_numerador() * fracao.get_numerador()\n",
    "        denominador = fracao.get_denominador() * self.get_denominador()\n",
    "        \n",
    "        return Fracao(numerador, denominador)\n",
    "    \n",
    "    def divisao(self, fracao):\n",
    "        \n",
    "        numerador =  self.get_numerador() * fracao.get_denominador()\n",
    "        denominador = fracao.get_numerador() * self.get_denominador()\n",
    "        \n",
    "        return Fracao(numerador, denominador)\n",
    "    \n",
    "    def apresenta(self):\n",
    "        return f\"{self.get_numerador()}/{self.get_denominador()}\""
   ]
  },
  {
   "cell_type": "code",
   "execution_count": 35,
   "metadata": {},
   "outputs": [],
   "source": [
    "f1 = Fracao(1,2)"
   ]
  },
  {
   "cell_type": "code",
   "execution_count": 36,
   "metadata": {},
   "outputs": [],
   "source": [
    "f2 = Fracao(1,2)"
   ]
  },
  {
   "cell_type": "code",
   "execution_count": 37,
   "metadata": {},
   "outputs": [
    {
     "data": {
      "text/plain": [
       "'1/2'"
      ]
     },
     "execution_count": 37,
     "metadata": {},
     "output_type": "execute_result"
    }
   ],
   "source": [
    "f1.apresenta()"
   ]
  },
  {
   "cell_type": "code",
   "execution_count": 39,
   "metadata": {},
   "outputs": [
    {
     "data": {
      "text/plain": [
       "'4/4'"
      ]
     },
     "execution_count": 39,
     "metadata": {},
     "output_type": "execute_result"
    }
   ],
   "source": [
    "f1.soma(f2).apresenta()"
   ]
  },
  {
   "cell_type": "code",
   "execution_count": 40,
   "metadata": {},
   "outputs": [
    {
     "data": {
      "text/plain": [
       "'0/4'"
      ]
     },
     "execution_count": 40,
     "metadata": {},
     "output_type": "execute_result"
    }
   ],
   "source": [
    "f1.subtracao(f2).apresenta()"
   ]
  },
  {
   "cell_type": "code",
   "execution_count": 41,
   "metadata": {},
   "outputs": [
    {
     "data": {
      "text/plain": [
       "'1/4'"
      ]
     },
     "execution_count": 41,
     "metadata": {},
     "output_type": "execute_result"
    }
   ],
   "source": [
    "f1.multiplicacao(f2).apresenta()"
   ]
  },
  {
   "cell_type": "code",
   "execution_count": 43,
   "metadata": {},
   "outputs": [
    {
     "data": {
      "text/plain": [
       "'2/2'"
      ]
     },
     "execution_count": 43,
     "metadata": {},
     "output_type": "execute_result"
    }
   ],
   "source": [
    "f1.divisao(f2).apresenta()"
   ]
  },
  {
   "cell_type": "code",
   "execution_count": 21,
   "metadata": {},
   "outputs": [
    {
     "ename": "ValueError",
     "evalue": "Erro! Denominador não pode ser zero.",
     "output_type": "error",
     "traceback": [
      "\u001b[1;31m---------------------------------------------------------------------------\u001b[0m",
      "\u001b[1;31mValueError\u001b[0m                                Traceback (most recent call last)",
      "Cell \u001b[1;32mIn[21], line 1\u001b[0m\n\u001b[1;32m----> 1\u001b[0m f1\u001b[39m.\u001b[39;49mset_denominador(\u001b[39m0\u001b[39;49m)\n",
      "Cell \u001b[1;32mIn[16], line 23\u001b[0m, in \u001b[0;36mFracao.set_denominador\u001b[1;34m(self, denominador)\u001b[0m\n\u001b[0;32m     21\u001b[0m \u001b[39mdef\u001b[39;00m \u001b[39mset_denominador\u001b[39m(\u001b[39mself\u001b[39m, denominador):\n\u001b[0;32m     22\u001b[0m     \u001b[39mif\u001b[39;00m denominador \u001b[39m==\u001b[39m \u001b[39m0\u001b[39m:\n\u001b[1;32m---> 23\u001b[0m         \u001b[39mraise\u001b[39;00m \u001b[39mValueError\u001b[39;00m(\u001b[39m'\u001b[39m\u001b[39mErro! Denominador não pode ser zero.\u001b[39m\u001b[39m'\u001b[39m)\n\u001b[0;32m     25\u001b[0m     \u001b[39mself\u001b[39m\u001b[39m.\u001b[39m__denominador \u001b[39m=\u001b[39m denominador\n",
      "\u001b[1;31mValueError\u001b[0m: Erro! Denominador não pode ser zero."
     ]
    }
   ],
   "source": [
    "f1.set_denominador(0)"
   ]
  },
  {
   "cell_type": "markdown",
   "metadata": {},
   "source": [
    "# Criação de getters e setters através de decorators\n"
   ]
  },
  {
   "cell_type": "code",
   "execution_count": 53,
   "metadata": {},
   "outputs": [
    {
     "name": "stdout",
     "output_type": "stream",
     "text": [
      "setter method called\n",
      "getter method called\n",
      "19\n"
     ]
    }
   ],
   "source": [
    "class Geeks:\n",
    "     def __init__(self):\n",
    "          self.__age = 0\n",
    "       \n",
    "     # using property decorator\n",
    "     # a getter function\n",
    "     @property\n",
    "     def age(self):\n",
    "         print(\"getter method called\")\n",
    "         return self.__age\n",
    "       \n",
    "     # a setter function\n",
    "     @age.setter\n",
    "     def age(self, a):\n",
    "         if(a < 18):\n",
    "            raise ValueError(\"Sorry you age is below eligibility criteria\")\n",
    "         print(\"setter method called\")\n",
    "         self.__age = a\n",
    "  \n",
    "mark = Geeks()\n",
    "  \n",
    "mark.age = 19\n",
    "  \n",
    "print(mark.age)"
   ]
  },
  {
   "cell_type": "markdown",
   "metadata": {},
   "source": [
    "# Criação de getters e setters através da função property\n"
   ]
  },
  {
   "cell_type": "code",
   "execution_count": 57,
   "metadata": {},
   "outputs": [
    {
     "name": "stdout",
     "output_type": "stream",
     "text": [
      "setter method called\n",
      "getter method called\n",
      "10\n"
     ]
    }
   ],
   "source": [
    "class Geeks:\n",
    "     def __init__(self):\n",
    "          self.__age = 0\n",
    "       \n",
    "     # function to get value of _age\n",
    "     def get_age2(self):\n",
    "         print(\"getter method called\")\n",
    "         return self.__age\n",
    "       \n",
    "     # function to set value of _age\n",
    "     def set_age(self, a):\n",
    "         print(\"setter method called\")\n",
    "         self.__age = a\n",
    "  \n",
    "     # function to delete _age attribute\n",
    "     def del_age(self):\n",
    "         del self.__age\n",
    "     \n",
    "     age = property(get_age2, set_age, del_age) \n",
    "  \n",
    "mark = Geeks()\n",
    "  \n",
    "mark.age = 10\n",
    "  \n",
    "print(mark.age)"
   ]
  }
 ],
 "metadata": {
  "kernelspec": {
   "display_name": "Python 3",
   "language": "python",
   "name": "python3"
  },
  "language_info": {
   "codemirror_mode": {
    "name": "ipython",
    "version": 3
   },
   "file_extension": ".py",
   "mimetype": "text/x-python",
   "name": "python",
   "nbconvert_exporter": "python",
   "pygments_lexer": "ipython3",
   "version": "3.11.4"
  },
  "orig_nbformat": 4
 },
 "nbformat": 4,
 "nbformat_minor": 2
}
