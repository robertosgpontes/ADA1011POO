{
 "cells": [
  {
   "cell_type": "markdown",
   "metadata": {},
   "source": [
    "# Programação Orientada a Objetos\n",
    "\n",
    "Métodos mágicos\n",
    "__________\n",
    "\n",
    "Na aula de hoje, vamos explorar os seguintes tópicos em Python:\n",
    "\n",
    "- 1) Métodos mágicos.\n",
    "\n",
    "__________"
   ]
  },
  {
   "cell_type": "markdown",
   "metadata": {},
   "source": [
    "Essas operações são triviais, quando feita entre números"
   ]
  },
  {
   "cell_type": "code",
   "execution_count": null,
   "metadata": {},
   "outputs": [],
   "source": []
  },
  {
   "cell_type": "markdown",
   "metadata": {},
   "source": [
    "Já essas operações, não são nada triviais:"
   ]
  },
  {
   "cell_type": "code",
   "execution_count": null,
   "metadata": {},
   "outputs": [],
   "source": []
  },
  {
   "cell_type": "markdown",
   "metadata": {},
   "source": [
    "Como o python sabe o que fazer?"
   ]
  },
  {
   "cell_type": "markdown",
   "metadata": {},
   "source": [
    "## 4) Métodos mágicos\n",
    "\n",
    "Como o python entende que o sinal \"+\", quando aplicado à objetos da classe `str` deve **concatenar** as duas strings, ao invés de fazer alguma outra operação estranha de soma?\n",
    "\n",
    "Isso é feito a partir dos **métodos mágicos**\n",
    "\n",
    "Para ilustrar os usos desses métodos, vamos criar uma classe de horário:"
   ]
  },
  {
   "cell_type": "code",
   "execution_count": null,
   "metadata": {},
   "outputs": [],
   "source": []
  },
  {
   "cell_type": "markdown",
   "metadata": {},
   "source": [
    "### Método de representação\n",
    "\n",
    "O método `__repr__` é um método mágico que permite dar um \"print\" diretamente no objeto, segundo o formato estabelecido!\n",
    "\n",
    "Sem definir este método na classe, o print mostra apenas o endereço do método:"
   ]
  },
  {
   "cell_type": "code",
   "execution_count": null,
   "metadata": {},
   "outputs": [],
   "source": []
  },
  {
   "cell_type": "markdown",
   "metadata": {},
   "source": [
    "_______"
   ]
  },
  {
   "cell_type": "markdown",
   "metadata": {},
   "source": [
    "________\n",
    "\n",
    "_________\n",
    "\n",
    "_________\n",
    "\n",
    "__REFERÊNCIA PARA FORMATAÇÃO DE STRINGS e o .format()__\n",
    "\n",
    "https://docs.python.org/pt-br/3/tutorial/inputoutput.html\n",
    "\n",
    "https://www.geeksforgeeks.org/python-format-function/\n",
    "\n",
    "________\n",
    "\n",
    "Relemembrando sobre a formatação de strings..."
   ]
  },
  {
   "cell_type": "code",
   "execution_count": null,
   "metadata": {},
   "outputs": [],
   "source": []
  },
  {
   "cell_type": "markdown",
   "metadata": {},
   "source": [
    "__________\n",
    "\n",
    "___________\n",
    "\n",
    "\n",
    "___________"
   ]
  },
  {
   "cell_type": "code",
   "execution_count": null,
   "metadata": {},
   "outputs": [],
   "source": []
  },
  {
   "cell_type": "markdown",
   "metadata": {},
   "source": [
    "Este objeto foi criado antes da redefinição do \\_\\_repr__, então fica o comportamento antigo!"
   ]
  },
  {
   "cell_type": "code",
   "execution_count": null,
   "metadata": {},
   "outputs": [],
   "source": []
  },
  {
   "cell_type": "markdown",
   "metadata": {},
   "source": [
    "### Métodos aritméticos\n",
    "\n",
    "Como o \"+\" é entendido como concatenação entre objetos da classe `str`?\n",
    "\n",
    "Isso se faz através dos __métodos mágicos aritméticos__, que substituem os símbolos aritméticos pelas operações que forem definidas dentro da classe!\n",
    "\n",
    "Temos os seguintes métodos mágicos aritméticos:\n",
    "\n",
    "- \\_\\_add\\__:  soma: +\n",
    "- \\_\\_sub\\__:  subtração: -\n",
    "- \\_\\_mul\\__:  multiplicação: *\n",
    "- \\_\\_truediv\\__:  divisão: /\n",
    "- \\_\\_floordiv\\__:  divisão inteira: //\n",
    "- \\_\\_mod\\__:  resto de divisão: %\n",
    "- \\_\\_pow\\__:  potência: **\n",
    "\n",
    "Vamos, a seguir, definir um método de soma de horas na nossa classe, que vai ser chamado pelo operador aritmético \"+\" (ou seja, será o método `__add__`)"
   ]
  },
  {
   "cell_type": "code",
   "execution_count": null,
   "metadata": {},
   "outputs": [],
   "source": []
  },
  {
   "cell_type": "markdown",
   "metadata": {},
   "source": [
    "### Métodos mágicos lógicos\n",
    "\n",
    "Da mesma forma que há metódos mágicos para operações aritméticas, há também para **operações lógicas!**\n",
    "\n",
    "Naturalmente, estes métodos retornaram True ou False.\n",
    "\n",
    "Os métodos lógicos são:\n",
    "\n",
    "- \\_\\_gt\\__: maior que (greater than): >\n",
    "- \\_\\_ge\\__: maior ou igual (greater or equal): >=\n",
    "- \\_\\_lt\\__: menor que (less than): <\n",
    "- \\_\\_le\\__: menor ou igual (less or equal): <=\n",
    "- \\_\\_eq\\__: igual (equal): ==\n",
    "- \\_\\_ne\\__: diferente (not equal): !=\n",
    "\n",
    "\n",
    "Como fazer um método para comparar dois horários?\n"
   ]
  },
  {
   "cell_type": "code",
   "execution_count": null,
   "metadata": {},
   "outputs": [],
   "source": []
  },
  {
   "cell_type": "markdown",
   "metadata": {},
   "source": [
    "___\n",
    "___\n",
    "___"
   ]
  }
 ],
 "metadata": {
  "kernelspec": {
   "display_name": "Python 3",
   "language": "python",
   "name": "python3"
  },
  "language_info": {
   "codemirror_mode": {
    "name": "ipython",
    "version": 3
   },
   "file_extension": ".py",
   "mimetype": "text/x-python",
   "name": "python",
   "nbconvert_exporter": "python",
   "pygments_lexer": "ipython3",
   "version": "3.8.3"
  }
 },
 "nbformat": 4,
 "nbformat_minor": 4
}
