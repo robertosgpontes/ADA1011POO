{
 "cells": [
  {
   "cell_type": "markdown",
   "metadata": {},
   "source": [
    "Aula de Hoje<br />\n",
    "Atributos estáticos<br/>\n",
    "Métodos estáticos (@staticmethod)<br/>\n",
    "<br /><br />\n",
    "Pesquisa individual: <br/>\n",
    "Diferença entre class method e static method em Python<br /><br />"
   ]
  },
  {
   "cell_type": "markdown",
   "metadata": {},
   "source": [
    "https://pythonbasics.org/static-method/\n",
    "\n",
    "https://realpython.com/instance-class-and-static-methods-demystified/\n",
    "\n",
    "https://www.geeksforgeeks.org/python-staticmethod/\n",
    "\n",
    "https://www.delftstack.com/pt/howto/python/python-static-method/\n",
    "\n",
    "https://horadecodar.com.br/diferenca-entre-staticmethod-e-classmethod-no-python/"
   ]
  },
  {
   "cell_type": "markdown",
   "metadata": {},
   "source": [
    "Estudo de Caso:\n",
    "Como utilizar a própria classe cliente de aulas anteriores para armazenar, buscar e acessar todos os objetos cliente instanciados.\n",
    "\n",
    "\n",
    "Caso não tenha implementado a classe cleinte considere a implementação simplificada a seguir"
   ]
  },
  {
   "cell_type": "code",
   "execution_count": 4,
   "metadata": {},
   "outputs": [],
   "source": [
    "class Cliente:\n",
    "\n",
    "    def __init__(self, nome, telefone, agencia, conta):\n",
    "        self.__nome = nome\n",
    "        self.__telefone = telefone\n",
    "        self.__agencia = agencia\n",
    "        self.__conta = conta\n",
    "        \n",
    "    def __str__(self) -> str:\n",
    "        return f\"{self.__nome} - Tel.: {self.__telefone} -Ag.: {self.__agencia} - CC: {self.__conta}\""
   ]
  },
  {
   "cell_type": "markdown",
   "metadata": {},
   "source": [
    "Faça uma apresentação de 7min explicando\n",
    "\n",
    "Atributos estáticos<br/>\n",
    "Métodos estáticos (@staticmethod)<br/>\n",
    "Métodos  de Classe (@classmethod)<br/>\n",
    "\n",
    "E Apresentando o estudo de caso proposto"
   ]
  }
 ],
 "metadata": {
  "kernelspec": {
   "display_name": "Python 3",
   "language": "python",
   "name": "python3"
  },
  "language_info": {
   "codemirror_mode": {
    "name": "ipython",
    "version": 3
   },
   "file_extension": ".py",
   "mimetype": "text/x-python",
   "name": "python",
   "nbconvert_exporter": "python",
   "pygments_lexer": "ipython3",
   "version": "3.11.4"
  },
  "orig_nbformat": 4
 },
 "nbformat": 4,
 "nbformat_minor": 2
}
