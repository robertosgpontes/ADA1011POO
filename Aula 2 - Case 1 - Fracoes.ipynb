{
 "cells": [
  {
   "cell_type": "code",
   "execution_count": 14,
   "metadata": {},
   "outputs": [],
   "source": [
    "class Fracao:\n",
    "    \n",
    "    def __init__(self, numerador:int, denominador:int) -> None:\n",
    "        \"\"\"_summary_\n",
    "\n",
    "        Args:\n",
    "            numerador (int): _description_\n",
    "            denominador (int): _description_\n",
    "        \"\"\"\n",
    "        self.numerador = numerador\n",
    "        self.denominador = denominador\n",
    "        \n",
    "    def soma(self, fracao):\n",
    "        \"\"\"_summary_\n",
    "\n",
    "        Args:\n",
    "            fracao (Fracao): _description_\n",
    "\n",
    "        Returns:\n",
    "            Fracao: _description_\n",
    "        \"\"\"\n",
    "        numerador =  fracao.denominador*self.numerador + fracao.numerador*self.denominador\n",
    "        denominador = fracao.denominador*self.denominador\n",
    "        \n",
    "        return Fracao(numerador, denominador)\n",
    "    \n",
    "    def subtracao(self, fracao):\n",
    "        \n",
    "        numerador =  fracao.denominador*self.numerador - fracao.numerador*self.denominador\n",
    "        denominador = fracao.denominador*self.denominador\n",
    "        \n",
    "        return Fracao(numerador, denominador)\n",
    "    \n",
    "    def multiplicacao(self, fracao):\n",
    "        \n",
    "        numerador =  self.numerador * fracao.numerador\n",
    "        denominador = fracao.denominador * self.denominador\n",
    "        \n",
    "        return Fracao(numerador, denominador)\n",
    "    \n",
    "    def divisao(self, fracao):\n",
    "        \n",
    "        numerador =  self.numerador * fracao.denominador\n",
    "        denominador = fracao.numerador * self.denominador\n",
    "        \n",
    "        return Fracao(numerador, denominador)\n",
    "    \n",
    "    def apresenta(self):\n",
    "        return f\"{self.numerador}/{self.denominador}\"   "
   ]
  },
  {
   "cell_type": "code",
   "execution_count": 15,
   "metadata": {},
   "outputs": [],
   "source": [
    "f1 = Fracao(1, 2)"
   ]
  },
  {
   "cell_type": "code",
   "execution_count": 16,
   "metadata": {},
   "outputs": [
    {
     "name": "stdout",
     "output_type": "stream",
     "text": [
      "1/2\n"
     ]
    }
   ],
   "source": [
    "print(f1.apresenta())"
   ]
  },
  {
   "cell_type": "code",
   "execution_count": 17,
   "metadata": {},
   "outputs": [],
   "source": [
    "f2 = Fracao(1, 2)"
   ]
  },
  {
   "cell_type": "code",
   "execution_count": 18,
   "metadata": {},
   "outputs": [
    {
     "data": {
      "text/plain": [
       "'4/4'"
      ]
     },
     "execution_count": 18,
     "metadata": {},
     "output_type": "execute_result"
    }
   ],
   "source": [
    "f1.soma(f2).apresenta()"
   ]
  },
  {
   "cell_type": "code",
   "execution_count": 19,
   "metadata": {},
   "outputs": [
    {
     "data": {
      "text/plain": [
       "'0/4'"
      ]
     },
     "execution_count": 19,
     "metadata": {},
     "output_type": "execute_result"
    }
   ],
   "source": [
    "f1.subtracao(f2).apresenta()"
   ]
  },
  {
   "cell_type": "code",
   "execution_count": 20,
   "metadata": {},
   "outputs": [
    {
     "data": {
      "text/plain": [
       "'1/2'"
      ]
     },
     "execution_count": 20,
     "metadata": {},
     "output_type": "execute_result"
    }
   ],
   "source": [
    "f2.apresenta()"
   ]
  },
  {
   "cell_type": "code",
   "execution_count": 21,
   "metadata": {},
   "outputs": [
    {
     "data": {
      "text/plain": [
       "'1/4'"
      ]
     },
     "execution_count": 21,
     "metadata": {},
     "output_type": "execute_result"
    }
   ],
   "source": [
    "f1.multiplicacao(f2).apresenta()"
   ]
  },
  {
   "cell_type": "code",
   "execution_count": 22,
   "metadata": {},
   "outputs": [
    {
     "data": {
      "text/plain": [
       "'2/2'"
      ]
     },
     "execution_count": 22,
     "metadata": {},
     "output_type": "execute_result"
    }
   ],
   "source": [
    "f1.divisao(f2).apresenta()"
   ]
  }
 ],
 "metadata": {
  "kernelspec": {
   "display_name": "Python 3",
   "language": "python",
   "name": "python3"
  },
  "language_info": {
   "codemirror_mode": {
    "name": "ipython",
    "version": 3
   },
   "file_extension": ".py",
   "mimetype": "text/x-python",
   "name": "python",
   "nbconvert_exporter": "python",
   "pygments_lexer": "ipython3",
   "version": "3.11.4"
  },
  "orig_nbformat": 4
 },
 "nbformat": 4,
 "nbformat_minor": 2
}
